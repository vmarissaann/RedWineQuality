{
  "cells": [
    {
      "cell_type": "markdown",
      "id": "lXAgMyQjIbqC",
      "metadata": {
        "id": "lXAgMyQjIbqC"
      },
      "source": [
        "# [CSMODEL] Project - Case Study"
      ]
    },
    {
      "cell_type": "markdown",
      "id": "3BEzEX0DIhH8",
      "metadata": {
        "id": "3BEzEX0DIhH8"
      },
      "source": [
        "**Section:** S11<br>\n",
        "**Group no.:** Group 2<br>\n",
        "**Group Members:**\n",
        "- Cadao, Krischelle Lourdes\n",
        "- Hernandez, Pierre Vincent\n",
        "- Villaceran, Marissa Ann"
      ]
    },
    {
      "cell_type": "markdown",
      "id": "60a64913",
      "metadata": {
        "id": "60a64913"
      },
      "source": [
        "## Import Libraries\n",
        "\n",
        "These libraries will be used in the notebook:\n",
        "- **`nummpy`** is a software library for Python that contains a large collection of mathematical functions, as well as convenient data structures to represent vectors and matrices.\n",
        "- **`pandas`** is a software library for Python that is designed for data manipulation and data analysis.\n",
        "- **`matplotlib`** is a software libary for data visualization, which allows us to easily render various types of graphs.\n",
        "- **`seaborn`** is a software library for data visualization, this builds on top of `matplotlib` and integrates with `pandas` data structures."
      ]
    },
    {
      "cell_type": "code",
      "execution_count": null,
      "id": "21228537",
      "metadata": {
        "colab": {
          "base_uri": "https://localhost:8080/"
        },
        "id": "21228537",
        "outputId": "6f53041a-e091-4c3b-f5b6-c028b8601c96"
      },
      "outputs": [],
      "source": [
        "import numpy as np\n",
        "import pandas as pd\n",
        "import matplotlib.pyplot as plt\n",
        "import seaborn as sns\n",
        "\n",
        "# sets the theme of the charts\n",
        "plt.style.use('seaborn-darkgrid')\n",
        "\n",
        "# inline plots\n",
        "%matplotlib inline\n",
        "# autoreload modules when code is run\n",
        "%load_ext autoreload\n",
        "%autoreload 2"
      ]
    },
    {
      "cell_type": "markdown",
      "id": "97691682",
      "metadata": {
        "id": "97691682"
      },
      "source": [
        "## Red Wine Quality Dataset"
      ]
    },
    {
      "cell_type": "markdown",
      "id": "ef007111",
      "metadata": {
        "id": "ef007111"
      },
      "source": [
        "The dataset includes information on the red variant of vinho verde, a wine product from the Mino region of Portugal. The most common physicochemical tests were selected for analysis, where chemical components are assessed to ensure purity and the absence of harmful contaminants or residuals from the manufacturing process. The data collection process for the Red Wine Quality dataset took place from May 2004 to February 2007 and the samples were directly taken from CRVV, an authorized certification agency that  aims to improve the quality and marketing of vinho verde."
      ]
    },
    {
      "cell_type": "markdown",
      "id": "4b7f8ba7",
      "metadata": {
        "id": "4b7f8ba7"
      },
      "source": [
        "The data was collected using a computerized system called iLab, which manages the data from the wine testing from producers to laboratory and sensory analysis. As a result, every entry in the dataset corresponds to an analytical or sensory test. During the preprocessing stage, the database was transformed to include a distinct wine sample (with all tests) per row.\n",
        "\n",
        "The data collection method used in this dataset has implications that a data-driven strategy that assesses the chemical components can be integrated for evaluating the quality of red wine, as opposed to relying solely on sensory analysis by human tasters, which can be subjective and prone to errors.\n"
      ]
    },
    {
      "cell_type": "markdown",
      "id": "916a691c",
      "metadata": {
        "id": "916a691c"
      },
      "source": [
        "The dataset contains *1600 observations* or rows and *11 variables or columns*. In each row, this represents the data of red wine samples from the north of Portugal to model red wine quality based on physicochemical tests. Each sample includes the **`fixed acidity`**, **`volatile acidity`**, **`citric acid`**, **`residual sugar`**, **`free sulfur dioxide`**, **`total sulfur dioxide`**, **`density`**, **`pH`**, **`sulphates`**, **`alcohol`**, and its output–the **`quality`**. An individual entry on the dataset has one information each in every column. Under the given dataset from kaggle, it comprises only one file which is the `csv` file."
      ]
    },
    {
      "cell_type": "markdown",
      "id": "vrdN3b8kJNXL",
      "metadata": {
        "id": "vrdN3b8kJNXL"
      },
      "source": [
        "The following are the descriptions of each variable in the dataset.<br>\n",
        "\n",
        "**Input variables:**\n",
        "- **`fixed acidity`**\n",
        "    - most acids involved with wine or fixed or nonvolatile (do not evaporate readily)\n",
        "- **`volatile acidity`**\n",
        "    - the amount of acetic acid in wine, which at too high of levels can lead to an unpleasant, vinegar taste\n",
        "- **`citric acid`**\n",
        "    - found in small quantities, citric acid can add 'freshness' and flavor to wines\n",
        "- **`residual sugar`**\n",
        "    - the amount of sugar remaining after fermentation stops, it's rare to find wines with less than 1 gram/liter and wines with greater than 45 grams/liter are considered sweet\n",
        "- **`chlorides`**\n",
        "    - the amount of salt in the wine\n",
        "- **`free sulfur dioxide`**\n",
        "    - the free form of SO2 exists in equilibrium between molecular SO2 (as a dissolved gas) and bisulfite ion; it prevents microbial growth and the oxidation of wine\n",
        "- **`total sulfur dioxide`**\n",
        "    - amount of free and bound forms of S02; in low concentrations, SO2 is mostly undetectable in wine, but at free SO2 concentrations over 50 ppm, SO2 becomes evident in the nose and taste of wine\n",
        "- **`density`**\n",
        "    - the density of water is close to that of water depending on the percent alcohol and sugar content\n",
        "- **`pH`**\n",
        "    - describes how acidic or basic a wine is on a scale from 0 (very acidic) to 14 (very basic); most wines are between 3-4 on the pH scale\n",
        "- **`sulphates`**\n",
        "    - a wine additive which can contribute to sulfur dioxide gas (S02) levels, which acts as an antimicrobial and antioxidant\n",
        "- **`alcohol`**\n",
        "    - the percent alcohol content of the wine\n",
        "\n",
        "**Output  variable (based on sensory data):**\n",
        "\n",
        "- **`quality (score between 0 and 10)`**\n",
        "    - output variable (based on sensory data, score between 0 and 10)"
      ]
    },
    {
      "cell_type": "markdown",
      "id": "7638cb68",
      "metadata": {
        "id": "7638cb68"
      },
      "source": [
        "# Reading the Dataset"
      ]
    },
    {
      "cell_type": "markdown",
      "id": "UKmNStOpJZu_",
      "metadata": {
        "id": "UKmNStOpJZu_"
      },
      "source": [
        "The first step is to load the dataset using `pandas`. This will load the dataset into a pandas `DataFrame`. The dataset was loaded using the [`read_csv`](https://pandas.pydata.org/pandas-docs/stable/reference/api/pandas.read_csv.html) function."
      ]
    },
    {
      "cell_type": "code",
      "execution_count": null,
      "id": "UfVuw9flJhWi",
      "metadata": {
        "colab": {
          "base_uri": "https://localhost:8080/",
          "height": 380
        },
        "id": "UfVuw9flJhWi",
        "outputId": "c045295c-2507-4661-bc27-9848cd6e93fc"
      },
      "outputs": [],
      "source": [
        "redwinequality_df = pd.read_csv('winequality-red.csv')\n",
        "redwinequality_df.head(10).style.background_gradient(axis=None)"
      ]
    },
    {
      "cell_type": "markdown",
      "id": "2eH_YplgJiJb",
      "metadata": {
        "id": "2eH_YplgJiJb"
      },
      "source": [
        "The dataset should now be loaded in the `redwinequality_df` variable. `redwinequality_df` is a [`DataFrame`](https://pandas.pydata.org/pandas-docs/stable/reference/api/pandas.DataFrame.html). It is a data structure for storing tabular data, and the main data structure used in pandas."
      ]
    },
    {
      "cell_type": "code",
      "execution_count": null,
      "id": "32Q0SggtJl0C",
      "metadata": {
        "colab": {
          "base_uri": "https://localhost:8080/"
        },
        "id": "32Q0SggtJl0C",
        "outputId": "25a3117f-22b5-4cc2-f3be-d017e1e8b077"
      },
      "outputs": [],
      "source": [
        "redwinequality_df.columns"
      ]
    },
    {
      "cell_type": "markdown",
      "id": "e59cd8d0",
      "metadata": {
        "id": "e59cd8d0"
      },
      "source": [
        "# Cleaning the Dataset"
      ]
    },
    {
      "cell_type": "markdown",
      "id": "oB8x-p29KZbm",
      "metadata": {
        "id": "oB8x-p29KZbm"
      },
      "source": [
        "To begin with cleaning the dataset, the [`info`](https://pandas.pydata.org/pandas-docs/stable/reference/api/pandas.DataFrame.info.html) function is called to display the general information about the dataset."
      ]
    },
    {
      "cell_type": "code",
      "execution_count": null,
      "id": "677c75a1",
      "metadata": {
        "colab": {
          "base_uri": "https://localhost:8080/"
        },
        "id": "677c75a1",
        "outputId": "186cdd79-45db-45c9-fe9d-5720fb91c062"
      },
      "outputs": [],
      "source": [
        "redwinequality_df.info()"
      ]
    },
    {
      "cell_type": "markdown",
      "id": "7120c2ab",
      "metadata": {
        "id": "7120c2ab"
      },
      "source": [
        "Based on the results of the function, it confirms that there are about **1599** observations and **12** variables in the dataset."
      ]
    },
    {
      "cell_type": "markdown",
      "id": "uqRhVm77NV5S",
      "metadata": {
        "id": "uqRhVm77NV5S"
      },
      "source": [
        "#### Multiple representation of same categorical values"
      ]
    },
    {
      "cell_type": "markdown",
      "id": "AWTmmnv4K20q",
      "metadata": {
        "id": "AWTmmnv4K20q"
      },
      "source": [
        "Since all the variables are of numerical datatype, then checking of multiple representations of the same categoraical value is not needed anymore."
      ]
    },
    {
      "cell_type": "markdown",
      "id": "6RbXo-Z7NeRe",
      "metadata": {
        "id": "6RbXo-Z7NeRe"
      },
      "source": [
        "#### Datatype and formatting of values"
      ]
    },
    {
      "cell_type": "markdown",
      "id": "zeGfdVreKvnC",
      "metadata": {
        "id": "zeGfdVreKvnC"
      },
      "source": [
        "It is also evident that the datatype and formatting of all the values of each variables are consistent and correct. This can be checked further by accessing the `dtypes` property of the `redwinequality_df` DataFrame.  "
      ]
    },
    {
      "cell_type": "code",
      "execution_count": null,
      "id": "WMAiuGYLKy6f",
      "metadata": {
        "colab": {
          "base_uri": "https://localhost:8080/"
        },
        "id": "WMAiuGYLKy6f",
        "outputId": "4aa13e7c-cd80-45b6-d22c-98ee29382c4f"
      },
      "outputs": [],
      "source": [
        "redwinequality_df.dtypes"
      ]
    },
    {
      "cell_type": "markdown",
      "id": "4V4Og9JRLJ5Y",
      "metadata": {
        "id": "4V4Og9JRLJ5Y"
      },
      "source": [
        "#### Checking for missing data (`NaN`s)"
      ]
    },
    {
      "cell_type": "markdown",
      "id": "_qjZBuETLN89",
      "metadata": {
        "id": "_qjZBuETLN89"
      },
      "source": [
        "To handle missing data in our dataset, each variable will be checked if it contains a `NaN` / `null` value. The [`isnull`](https://pandas.pydata.org/pandas-docs/stable/reference/api/pandas.DataFrame.isnull.html) and [`any`](https://pandas.pydata.org/pandas-docs/stable/reference/api/pandas.DataFrame.any.html) functions will be used to list each variable with a boolean value indicating if the variable contains a `NaN` / `null` value."
      ]
    },
    {
      "cell_type": "code",
      "execution_count": null,
      "id": "dYVheJX6LcPF",
      "metadata": {
        "colab": {
          "base_uri": "https://localhost:8080/"
        },
        "id": "dYVheJX6LcPF",
        "outputId": "e9f25fb7-8005-408a-a822-d5ca219f490a"
      },
      "outputs": [],
      "source": [
        "redwinequality_df.isnull().any()"
      ]
    },
    {
      "cell_type": "markdown",
      "id": "UCFZh16DLdo6",
      "metadata": {
        "id": "UCFZh16DLdo6"
      },
      "source": [
        "By looking at the resulting list, there are no missing data or variables containing `NaN`s."
      ]
    },
    {
      "cell_type": "markdown",
      "id": "0IZmFkzpNlER",
      "metadata": {
        "id": "0IZmFkzpNlER"
      },
      "source": [
        "#### Duplicate data"
      ]
    },
    {
      "cell_type": "markdown",
      "id": "TWfOPj7YNqeQ",
      "metadata": {
        "id": "TWfOPj7YNqeQ"
      },
      "source": [
        "As it was stated from the source of the dataset, the data was collected using a computerized system called iLab, which manages the data from the wine testing from producers to laboratory and sensory analysis. During the preprocessing stage, the database was transformed to include a ***distinct wine sample (with all tests) per row***, which means that each row or observation in the database are unique. Thus, duplicate data in the same variable is permissible and is part of the observation to be analyzed."
      ]
    },
    {
      "cell_type": "markdown",
      "id": "655d4930",
      "metadata": {
        "id": "655d4930"
      },
      "source": [
        "# Exploratory Data Analysis"
      ]
    },
    {
      "cell_type": "markdown",
      "id": "0JeqpTu-bstN",
      "metadata": {
        "id": "0JeqpTu-bstN"
      },
      "source": [
        "### 1. Is there a correlation between the quality rating and any of the physicochemical properties in the dataset?"
      ]
    },
    {
      "cell_type": "markdown",
      "id": "inEaPIWvbu0X",
      "metadata": {
        "id": "inEaPIWvbu0X"
      },
      "source": [
        "In order to retrieve the correlation between the quality rating and the physicochemical properties in the dataset, correlation will be done to each of the variables with each other. By using the **`corr`** function, it will compute pairwaise correlation of columns.\n",
        "\n",
        "Since the dataset only has a small range of values, then the **Pearson Correlation** method is going to be used for computing the correlation coefficient."
      ]
    },
    {
      "cell_type": "code",
      "execution_count": null,
      "id": "Dgaeih0yb0KD",
      "metadata": {
        "colab": {
          "base_uri": "https://localhost:8080/",
          "height": 522
        },
        "id": "Dgaeih0yb0KD",
        "outputId": "a03c9c31-f3d2-494e-ec9d-fcb13602f46b"
      },
      "outputs": [],
      "source": [
        "# pearson correlation between each variable with each other\n",
        "all_corr = redwinequality_df.corr(method='pearson')\n",
        "\n",
        "# print numerical correlation values\n",
        "all_corr"
      ]
    },
    {
      "cell_type": "markdown",
      "id": "3rYYSEeHb1gd",
      "metadata": {
        "id": "3rYYSEeHb1gd"
      },
      "source": [
        "The correlation result can be visually represented using heatmap."
      ]
    },
    {
      "cell_type": "code",
      "execution_count": null,
      "id": "hlZGFj6Zb79i",
      "metadata": {
        "colab": {
          "base_uri": "https://localhost:8080/",
          "height": 630
        },
        "id": "hlZGFj6Zb79i",
        "outputId": "f3c748e5-6874-4ab5-9788-469473ef67f7"
      },
      "outputs": [],
      "source": [
        "# Matplotlib heatmap of correlation of each variable with each other\n",
        "plt.rcParams['axes.grid'] = False # to disable white grid lines\n",
        "fig, ax = plt.subplots(figsize=(10,10))\n",
        "im = ax.imshow(all_corr, cmap='plasma', interpolation='nearest')\n",
        "ax.set_title('Correlation of all variables with each other', size=20)\n",
        "ax.set_xticks(range(len(all_corr.columns)), all_corr.columns, rotation='vertical', size=12)\n",
        "ax.set_yticks(range(len(all_corr.columns)), all_corr.columns, size=12)\n",
        "fig.colorbar(im, orientation='vertical')\n",
        "for i in range(len(all_corr.columns)):\n",
        "    for j in range(len(all_corr.columns)):\n",
        "        text = ax.text(j, i, round(all_corr.iloc[i, j], 2),\n",
        "                       ha=\"center\", va=\"center\", color=\"black\", size=12)\n",
        "plt.show()\n",
        "plt.rcParams['axes.grid'] = True # to enable white grid lines"
      ]
    },
    {
      "cell_type": "markdown",
      "id": "5I-rg21icBbY",
      "metadata": {
        "id": "5I-rg21icBbY"
      },
      "source": [
        "Since the area of interest is the correlation between the quality rating and any of the physicochemical properties in the dataset, then the quality column would be extracted from the `all_corr` dataframe.\n",
        "\n",
        "The extracted `quality` column from the correlation dataframe will be visualized using heatmap."
      ]
    },
    {
      "cell_type": "code",
      "execution_count": null,
      "id": "aITVLQq0cHUD",
      "metadata": {
        "colab": {
          "base_uri": "https://localhost:8080/",
          "height": 611
        },
        "id": "aITVLQq0cHUD",
        "outputId": "1f9c3324-635e-4130-ab90-943f0b4740d8"
      },
      "outputs": [],
      "source": [
        "# correlation between quality rate variable and the pyhsicochemical properties\n",
        "quality_rest = all_corr[['quality']].drop('quality', axis=0).sort_values(by='quality', ascending=False)\n",
        "\n",
        "quality_rest \n",
        "# quality_rest = all_corr[['quality']].sort_values(by='quality', ascending=False)\n",
        "\n",
        "# Matplotlib heatmap of correlation between quality rate and the rest of the variables\n",
        "plt.rcParams['axes.grid'] = False # to disable white grid lines\n",
        "fig, ax = plt.subplots(figsize=(10,10))\n",
        "im = ax.imshow(quality_rest, cmap='plasma', interpolation='nearest')\n",
        "ax.set_title('Correlation between quality rate and the pyhsicochemical properties', size=20)\n",
        "ax.set_xticks(range(len(quality_rest.columns)), quality_rest.columns, size=12)\n",
        "ax.set_yticks(range(len(quality_rest.index)), quality_rest.index, size=12)\n",
        "fig.colorbar(im, orientation='vertical')\n",
        "for i in range(len(quality_rest.index)):\n",
        "    text = ax.text(0, i, round(quality_rest.iloc[i,0], 2),\n",
        "                    ha=\"center\", va=\"center\", color=\"black\", size=12)\n",
        "plt.show()\n",
        "plt.rcParams['axes.grid'] = True # to enable white grid lines"
      ]
    },
    {
      "cell_type": "markdown",
      "id": "2Uhd4pOlcThK",
      "metadata": {
        "id": "2Uhd4pOlcThK"
      },
      "source": [
        "Based on the correlation heatmap of `qualtiy rate vs. the physicochemical properties`, the **`alcohol`** physicochemical property variable yielded the relatively highest correlation value with the **`quality`** variable at **0.48**. This could possibly imply that the *quality rate* of a red wine is **positively correlated** with the amount of *alcohol content* it has.\n",
        "\n",
        "On the opposite, the **`volatile acidity`** physicochemical property variable yielded the the relatively lowest correlation value with the **`quality`** variable at **-0.39**. This could possibly impy that the *quality rate* of a red wine is **negatively correlated** with the amount of *volatile acidity content* it has.\n",
        "\n",
        "It is also evident that there are physicochemical properties that are close to not having a correlation (values close to **0**) with the **`quality`** variable,  such as the **`residual sugar`**, **`free sulfur dioxide`**, and **`pH`** variables. These variables might not have that much of an effect with the *quality rate* of a red wine."
      ]
    },
    {
      "cell_type": "markdown",
      "id": "55340bed",
      "metadata": {
        "id": "55340bed"
      },
      "source": [
        "### 2. How are the physicochemical properties of red wine distributed? \n"
      ]
    },
    {
      "cell_type": "markdown",
      "id": "Vik1ko7eNy6_",
      "metadata": {
        "id": "Vik1ko7eNy6_"
      },
      "source": [
        "The central limit theorem states that as the sample size increases, the sampling distribution of the mean approaches a normal distribution. In this case, since there are 1600 observations, we can safely assume that the sampling distribution of the mean is approximately normal. This means that we can describe the distribution of the physicochemical properties by its mean and standard deviation."
      ]
    },
    {
      "attachments": {},
      "cell_type": "markdown",
      "id": "b51597c1",
      "metadata": {
        "id": "b51597c1"
      },
      "source": [
        "#### 2.1 Distribution of Fixed Acidity"
      ]
    },
    {
      "cell_type": "code",
      "execution_count": null,
      "id": "W2fO4STJRYbz",
      "metadata": {
        "colab": {
          "base_uri": "https://localhost:8080/"
        },
        "id": "W2fO4STJRYbz",
        "outputId": "d88ef44b-6541-40b7-fd3f-67c674eaa9eb"
      },
      "outputs": [],
      "source": [
        "fixacid_df= redwinequality_df.agg({\"fixed acidity\": [\"mean\", \"median\",\"std\", \"min\", \"max\"]})\n",
        "round(fixacid_df,2)"
      ]
    },
    {
      "cell_type": "markdown",
      "id": "uzL5q9NK0NqX",
      "metadata": {
        "id": "uzL5q9NK0NqX"
      },
      "source": [
        "The distribution of `fixed acidity` is **8.32 ± 1.74** (mean ± std)."
      ]
    },
    {
      "cell_type": "code",
      "execution_count": null,
      "id": "giXEfm-d0S35",
      "metadata": {
        "colab": {
          "base_uri": "https://localhost:8080/"
        },
        "id": "giXEfm-d0S35",
        "outputId": "37608c98-ed3a-4fed-b4e9-f579fb529a21"
      },
      "outputs": [],
      "source": [
        "redwinequality_df.boxplot(\"fixed acidity\", figsize=(15, 10))\n",
        "plt.show()"
      ]
    },
    {
      "cell_type": "code",
      "execution_count": null,
      "id": "bFuXdMTF0fzr",
      "metadata": {
        "colab": {
          "base_uri": "https://localhost:8080/"
        },
        "id": "bFuXdMTF0fzr",
        "outputId": "7572fb64-9a27-4502-f8e7-64758786c0c4"
      },
      "outputs": [],
      "source": [
        "# Get the median of the fixed acidity\n",
        "fixacid_median = redwinequality_df[\"fixed acidity\"].median()\n",
        "fixacid_median_value = float(fixacid_median)\n",
        "\n",
        "# Calculate the interquartile range (IQR)\n",
        "fixacid_q1, fixacid_q3 = np.percentile(redwinequality_df[\"fixed acidity\"], [25, 75])\n",
        "fixacid_iqr = fixacid_q3 - fixacid_q1\n",
        "\n",
        "# Calculate the upper and lower whiskers\n",
        "fixacid_upper_whisker = min(redwinequality_df[\"fixed acidity\"].max(), fixacid_q3 + 1.5*fixacid_iqr)\n",
        "fixacid_lower_whisker = max(redwinequality_df[\"fixed acidity\"].min(),fixacid_q1 - 1.5*fixacid_iqr)\n",
        "\n",
        "#Calculate center of the box for visual inspection\n",
        "fixacid_center=(fixacid_q3 +fixacid_q1)/2\n",
        "\n",
        "#Print values \n",
        "print(\"Median of fixed acidity: {:.2f}\".format(fixacid_median_value))\n",
        "print(\"Third Quartile: {:.2f}\".format(fixacid_q3))\n",
        "print(\"First Quartile: {:.2f}\".format(fixacid_q1))\n",
        "print(\"Upper whisker: {:.2f}\".format(fixacid_upper_whisker))\n",
        "print(\"Lower whisker: {:.2f}\".format(fixacid_lower_whisker))\n",
        "print(\"Center of the box: {:.2f}\".format(fixacid_center))"
      ]
    },
    {
      "cell_type": "markdown",
      "id": "1bbff9c3",
      "metadata": {
        "id": "1bbff9c3"
      },
      "source": [
        "Based on the boxplot of `fixed acidity`, it can be seen that there exists outliers outside the upper whisker (12.35); however, none below the lower whisker (4.60). The 'fixed acidity' column has a typical range of values, also known as the middle 50% of the data, which falls between 7.10 and 9.20.\n",
        "\n",
        "Moreover, based on visual inspection, the median falls to the bottom of the center of the box; thus, the **distribution is positively skewed**."
      ]
    },
    {
      "attachments": {},
      "cell_type": "markdown",
      "id": "cH6Njw1B451i",
      "metadata": {
        "id": "cH6Njw1B451i"
      },
      "source": [
        "#### 2.2 Distribution of Volatile Acidity"
      ]
    },
    {
      "cell_type": "code",
      "execution_count": null,
      "id": "OTqSGUWK4_Ab",
      "metadata": {
        "colab": {
          "base_uri": "https://localhost:8080/"
        },
        "id": "OTqSGUWK4_Ab",
        "outputId": "e36ee54b-e6e9-4066-aef2-f504a0a3df61"
      },
      "outputs": [],
      "source": [
        "volacid_df=redwinequality_df.agg({\"volatile acidity\": [\"mean\", \"median\",\"std\", \"min\", \"max\"]})\n",
        "round(volacid_df,2)"
      ]
    },
    {
      "cell_type": "markdown",
      "id": "9uvMeb1O5EA-",
      "metadata": {
        "id": "9uvMeb1O5EA-"
      },
      "source": [
        "The distribution of volatile acidity is **0.53 ± 0.18** (mean ± std)."
      ]
    },
    {
      "cell_type": "code",
      "execution_count": null,
      "id": "8r0knhXf5MuV",
      "metadata": {
        "colab": {
          "base_uri": "https://localhost:8080/"
        },
        "id": "8r0knhXf5MuV",
        "outputId": "375c8015-7bee-4fdf-950c-badecf1a5e91"
      },
      "outputs": [],
      "source": [
        "redwinequality_df.boxplot(\"volatile acidity\", figsize=(15, 10))\n",
        "plt.show()"
      ]
    },
    {
      "cell_type": "code",
      "execution_count": null,
      "id": "ceIOU2JO5Nkl",
      "metadata": {
        "colab": {
          "base_uri": "https://localhost:8080/"
        },
        "id": "ceIOU2JO5Nkl",
        "outputId": "def19741-7a6a-4a18-82b0-e7d51a0bff02"
      },
      "outputs": [],
      "source": [
        "# Get the median of the volatile acidity\n",
        "volacid_median = redwinequality_df[\"volatile acidity\"].median()\n",
        "volacid_median_value = float(volacid_median)\n",
        "\n",
        "# Calculate the interquartile range (IQR)\n",
        "volacid_q1, volacid_q3 = np.percentile(redwinequality_df[\"volatile acidity\"], [25, 75])\n",
        "volacid_iqr = volacid_q3 - volacid_q1\n",
        "\n",
        "# Calculate the upper and lower whiskers\n",
        "volacid_upper_whisker = min(redwinequality_df[\"volatile acidity\"].max(), volacid_q3 + 1.5*volacid_iqr)\n",
        "volacid_lower_whisker = max(redwinequality_df[\"volatile acidity\"].min(),volacid_q1 - 1.5*volacid_iqr)\n",
        "\n",
        "#Calculate center of the box for visual inspection\n",
        "volacid_center=(volacid_q3 +volacid_q1)/2\n",
        "\n",
        "#Print values \n",
        "print(\"Median of volatile acidity: {:.2f}\".format(volacid_median_value))\n",
        "print(\"Third Quartile: {:.2f}\".format(volacid_q3))\n",
        "print(\"First Quartile: {:.2f}\".format(volacid_q1))\n",
        "print(\"Upper whisker: {:.2f}\".format(volacid_upper_whisker))\n",
        "print(\"Lower whisker: {:.2f}\".format(volacid_lower_whisker))\n",
        "print(\"Center of the box: {:.2f}\".format(volacid_center))"
      ]
    },
    {
      "cell_type": "markdown",
      "id": "SUhApNhq5ctC",
      "metadata": {
        "id": "SUhApNhq5ctC"
      },
      "source": [
        "Based on the boxplot of `volatile acidity`, it can be seen that there exists outliers outside the upper whisker (1.02); however, none below the lower whisker (0.12). The 'volatile acidity' column has a typical range of values, also known as the middle 50% of the data, which falls between 0.39 and 0.64.\n",
        "\n",
        "Moreover, based on visual inspection, the median falls on the center of the box; thus, the **distribution is symmetric**."
      ]
    },
    {
      "attachments": {},
      "cell_type": "markdown",
      "id": "PdNeMMVyFLS3",
      "metadata": {
        "id": "PdNeMMVyFLS3"
      },
      "source": [
        "#### 2.3 Distribution of Citric Acid"
      ]
    },
    {
      "cell_type": "code",
      "execution_count": null,
      "id": "4h9pbx5U5CBF",
      "metadata": {
        "colab": {
          "base_uri": "https://localhost:8080/"
        },
        "id": "4h9pbx5U5CBF",
        "outputId": "a9e80b7e-141b-4ad2-8517-2875978af835"
      },
      "outputs": [],
      "source": [
        "citricacid_df= redwinequality_df.agg({\"citric acid\": [\"mean\", \"median\",\"std\", \"min\", \"max\"]})\n",
        "round(citricacid_df,2)"
      ]
    },
    {
      "cell_type": "markdown",
      "id": "4OYH6Z3lJo47",
      "metadata": {
        "id": "4OYH6Z3lJo47"
      },
      "source": [
        "The distribution of citric acid is **0.27 ± 0.19** (mean ± std)."
      ]
    },
    {
      "cell_type": "code",
      "execution_count": null,
      "id": "spf5AZLRJwXr",
      "metadata": {
        "colab": {
          "base_uri": "https://localhost:8080/"
        },
        "id": "spf5AZLRJwXr",
        "outputId": "a8fcf8e9-1e42-4190-a042-21e20c80af71"
      },
      "outputs": [],
      "source": [
        "redwinequality_df.boxplot(\"citric acid\", figsize=(15, 10))\n",
        "plt.show()"
      ]
    },
    {
      "cell_type": "code",
      "execution_count": null,
      "id": "el76VL2dJ6Vl",
      "metadata": {
        "colab": {
          "base_uri": "https://localhost:8080/"
        },
        "id": "el76VL2dJ6Vl",
        "outputId": "f88229e7-9cc7-4b70-f98a-31ac46377377"
      },
      "outputs": [],
      "source": [
        "# Get the median of the citric acidity\n",
        "citricacid_median = redwinequality_df[\"citric acid\"].median()\n",
        "citricacid_median_value = float(citricacid_median)\n",
        "\n",
        "# Calculate the interquartile range (IQR)\n",
        "citricacid_q1, citricacid_q3 = np.percentile(redwinequality_df[\"citric acid\"], [25, 75])\n",
        "citricacid_iqr = citricacid_q3 - citricacid_q1\n",
        "\n",
        "# Calculate the upper and lower whiskers\n",
        "citricacid_upper_whisker = min(redwinequality_df[\"citric acid\"].max(), citricacid_q3 + 1.5*citricacid_iqr)\n",
        "citricacid_lower_whisker = max(redwinequality_df[\"citric acid\"].min(),citricacid_q1 - 1.5*citricacid_iqr)\n",
        "\n",
        "# Calculate center of the box for visual inspection\n",
        "citricacid_center = (citricacid_q3 + citricacid_q1)/2\n",
        "\n",
        "# Print values \n",
        "print(\"Median of citric acid: {:.2f}\".format(citricacid_median_value))\n",
        "print(\"Third Quartile: {:.2f}\".format(citricacid_q3))\n",
        "print(\"First Quartile: {:.2f}\".format(citricacid_q1))\n",
        "print(\"Upper whisker: {:.2f}\".format(citricacid_upper_whisker))\n",
        "print(\"Lower whisker: {:.2f}\".format(citricacid_lower_whisker))\n",
        "print(\"Center of the box: {:.2f}\".format(citricacid_center))\n",
        "\n",
        "round(redwinequality_df[['citric acid']].describe(),2)\n"
      ]
    },
    {
      "attachments": {},
      "cell_type": "markdown",
      "id": "2p-ZGsqTJ4ch",
      "metadata": {
        "id": "2p-ZGsqTJ4ch"
      },
      "source": [
        "Based on the boxplot of `citric acid`, it can be seen that there exists outliers outside the upper whisker (0.91); however, none below the lower whisker (0.00). The 'citric acid' column has a typical range of values, also known as the middle 50% of the data, which falls between 0.09 and 0.42.\n",
        "\n",
        "Moreover, based on visual inspection, the median falls on the center of the box; thus, the **distribution is symmetric**."
      ]
    },
    {
      "attachments": {},
      "cell_type": "markdown",
      "id": "vS05Vg6hJzl7",
      "metadata": {
        "id": "vS05Vg6hJzl7"
      },
      "source": [
        "#### 2.4 Distribution of Residual Sugars"
      ]
    },
    {
      "cell_type": "code",
      "execution_count": null,
      "id": "dv-Z8C1SV82u",
      "metadata": {
        "colab": {
          "base_uri": "https://localhost:8080/"
        },
        "id": "dv-Z8C1SV82u",
        "outputId": "dd3182bf-4e73-4b8f-a12e-7e6c1b1d8953"
      },
      "outputs": [],
      "source": [
        "sugar_df= redwinequality_df.agg({\"residual sugar\": [\"mean\", \"median\",\"std\", \"min\", \"max\"]})\n",
        "round(sugar_df,2)"
      ]
    },
    {
      "cell_type": "markdown",
      "id": "8jfKLgkLWBQS",
      "metadata": {
        "id": "8jfKLgkLWBQS"
      },
      "source": [
        "The distribution of residual sugar is **2.54 ± 1.41** (mean ± std)."
      ]
    },
    {
      "cell_type": "code",
      "execution_count": null,
      "id": "3vquFILRV_Lt",
      "metadata": {
        "colab": {
          "base_uri": "https://localhost:8080/"
        },
        "id": "3vquFILRV_Lt",
        "outputId": "69f98524-feb4-4844-ea6b-bba550b2b07c"
      },
      "outputs": [],
      "source": [
        "redwinequality_df.boxplot(\"residual sugar\", figsize=(15, 10))\n",
        "plt.show()"
      ]
    },
    {
      "cell_type": "code",
      "execution_count": null,
      "id": "H8r-G6YiXKR2",
      "metadata": {
        "colab": {
          "base_uri": "https://localhost:8080/"
        },
        "id": "H8r-G6YiXKR2",
        "outputId": "ebf486d0-e93f-49e7-adbc-3690b64d2590"
      },
      "outputs": [],
      "source": [
        "# Get the median of the residual sugar\n",
        "sugar_median = redwinequality_df[\"residual sugar\"].median()\n",
        "sugar_median_value = float(sugar_median)\n",
        "\n",
        "# Calculate the interquartile range (IQR)\n",
        "sugar_q1, sugar_q3 = np.percentile(redwinequality_df[\"residual sugar\"], [25, 75])\n",
        "sugar_iqr = sugar_q3 - sugar_q1\n",
        "\n",
        "# Calculate the upper and lower whiskers\n",
        "sugar_upper_whisker = min(redwinequality_df[\"residual sugar\"].max(), sugar_q3 + 1.5*sugar_iqr)\n",
        "sugar_lower_whisker = max(redwinequality_df[\"residual sugar\"].min(),sugar_q1 - 1.5*sugar_iqr)\n",
        "\n",
        "#Calculate center of the box for visual inspection\n",
        "sugar_center=(sugar_q3 +sugar_q1)/2\n",
        "\n",
        "#Print values \n",
        "print(\"Median of residual sugar: {:.2f}\".format(sugar_median_value))\n",
        "print(\"Third Quartile: {:.2f}\".format(sugar_q3))\n",
        "print(\"First Quartile: {:.2f}\".format(sugar_q1))\n",
        "print(\"Upper whisker: {:.2f}\".format(sugar_upper_whisker))\n",
        "print(\"Lower whisker: {:.2f}\".format(sugar_lower_whisker))\n",
        "print(\"Center of the box: {:.2f}\".format(sugar_center))"
      ]
    },
    {
      "cell_type": "markdown",
      "id": "CccPpiMBXPhb",
      "metadata": {
        "id": "CccPpiMBXPhb"
      },
      "source": [
        "Based on the boxplot of `residual sugar`, it can be seen that there exists outliers outside the upper whisker (3.65); however, none below the lower whisker (0.90). The 'residual sugar' column has a typical range of values, also known as the middle 50% of the data, which falls between 1.90 and 2.60.\n",
        "\n",
        "Moreover, based on visual inspection, the median is near the center of the box; thus, the **distribution is approximately symmetric**."
      ]
    },
    {
      "attachments": {},
      "cell_type": "markdown",
      "id": "kZO_diIpXTnL",
      "metadata": {
        "id": "kZO_diIpXTnL"
      },
      "source": [
        "#### 2.5 Distribution of Chlorides"
      ]
    },
    {
      "cell_type": "code",
      "execution_count": null,
      "id": "8WKg1Tq_XLyc",
      "metadata": {
        "colab": {
          "base_uri": "https://localhost:8080/"
        },
        "id": "8WKg1Tq_XLyc",
        "outputId": "e0d4fb7a-ca68-4c78-cfc1-2e235e1e6939"
      },
      "outputs": [],
      "source": [
        "chloride_df= redwinequality_df.agg({\"chlorides\": [\"mean\", \"median\",\"std\", \"min\", \"max\"]})\n",
        "round(chloride_df,2)"
      ]
    },
    {
      "cell_type": "markdown",
      "id": "k8LgdpMyXbAh",
      "metadata": {
        "id": "k8LgdpMyXbAh"
      },
      "source": [
        "The distribution of chlorides is **0.09 ± 0.05** (mean ± std)."
      ]
    },
    {
      "cell_type": "code",
      "execution_count": null,
      "id": "p8z4x7NjXZQF",
      "metadata": {
        "colab": {
          "base_uri": "https://localhost:8080/"
        },
        "id": "p8z4x7NjXZQF",
        "outputId": "4bf6afd6-51a1-44f2-bef7-cc6e7f034645"
      },
      "outputs": [],
      "source": [
        "redwinequality_df.boxplot(\"chlorides\", figsize=(15, 10))\n",
        "plt.show()"
      ]
    },
    {
      "cell_type": "code",
      "execution_count": null,
      "id": "QhDq7BfnXenc",
      "metadata": {
        "colab": {
          "base_uri": "https://localhost:8080/"
        },
        "id": "QhDq7BfnXenc",
        "outputId": "59c55220-ca7c-4d12-9a6a-95e6b577ecb3"
      },
      "outputs": [],
      "source": [
        "# Get the median of the chlorides\n",
        "chloride_median = redwinequality_df[\"chlorides\"].median()\n",
        "chloride_median_value = float(chloride_median)\n",
        "\n",
        "# Calculate the interquartile range (IQR)\n",
        "chloride_q1, chloride_q3 = np.percentile(redwinequality_df[\"chlorides\"], [25, 75])\n",
        "chloride_iqr = chloride_q3 - chloride_q1\n",
        "\n",
        "# Calculate the upper and lower whiskers\n",
        "chloride_upper_whisker = min(redwinequality_df[\"chlorides\"].max(), chloride_q3 + 1.5*chloride_iqr)\n",
        "chloride_lower_whisker = max(redwinequality_df[\"chlorides\"].min(),chloride_q1 - 1.5*chloride_iqr)\n",
        "\n",
        "#Calculate center of the box for visual inspection\n",
        "chloride_center=(chloride_q3 +chloride_q1)/2\n",
        "\n",
        "#Print values \n",
        "print(\"Median of chlorides: {:.2f}\".format(chloride_median_value))\n",
        "print(\"Third Quartile: {:.2f}\".format(chloride_q3))\n",
        "print(\"First Quartile: {:.2f}\".format(chloride_q1))\n",
        "print(\"Upper whisker: {:.2f}\".format(chloride_upper_whisker))\n",
        "print(\"Lower whisker: {:.2f}\".format(chloride_lower_whisker))\n",
        "print(\"Center of the box: {:.2f}\".format(chloride_center))"
      ]
    },
    {
      "cell_type": "markdown",
      "id": "ppTZ9f_uXyjg",
      "metadata": {
        "id": "ppTZ9f_uXyjg"
      },
      "source": [
        "Based on the boxplot of `chlorides`, it can be seen that there exists outliers outside the upper whisker (0.12) and lower whisker (0.04). The 'chlorides' column has a typical range of values, also known as the middle 50% of the data, which falls between 0.07 and 0.09.\n",
        "\n",
        "Moreover, based on visual inspection, the median is at the center of the box; thus, the **distribution is symmetric**."
      ]
    },
    {
      "attachments": {},
      "cell_type": "markdown",
      "id": "GIByZN_HX1d4",
      "metadata": {
        "id": "GIByZN_HX1d4"
      },
      "source": [
        "#### 2.6 Distribution of free sulfur dioxide"
      ]
    },
    {
      "cell_type": "code",
      "execution_count": null,
      "id": "EYi8uEg2XgAN",
      "metadata": {
        "colab": {
          "base_uri": "https://localhost:8080/"
        },
        "id": "EYi8uEg2XgAN",
        "outputId": "e3179243-a2f0-41af-8bd4-5da4d82e96e1"
      },
      "outputs": [],
      "source": [
        "free_sd_df= redwinequality_df.agg({\"free sulfur dioxide\": [\"mean\", \"median\",\"std\", \"min\", \"max\"]})\n",
        "round(free_sd_df,2)"
      ]
    },
    {
      "cell_type": "markdown",
      "id": "pWkHWQ9_lDjg",
      "metadata": {
        "id": "pWkHWQ9_lDjg"
      },
      "source": [
        "The distribution of chlorides is **15.87 ± 10.46** (mean ± std)."
      ]
    },
    {
      "cell_type": "code",
      "execution_count": null,
      "id": "_u8Xi2wRlGOh",
      "metadata": {
        "colab": {
          "base_uri": "https://localhost:8080/"
        },
        "id": "_u8Xi2wRlGOh",
        "outputId": "9286278c-905a-47da-da72-0ead77e6d688"
      },
      "outputs": [],
      "source": [
        "redwinequality_df.boxplot(\"free sulfur dioxide\", figsize=(15, 10))\n",
        "plt.show()"
      ]
    },
    {
      "cell_type": "code",
      "execution_count": null,
      "id": "zkEIPrftlHxl",
      "metadata": {
        "colab": {
          "base_uri": "https://localhost:8080/"
        },
        "id": "zkEIPrftlHxl",
        "outputId": "e09078ae-36ac-45c7-a49f-eb111f83ce0a"
      },
      "outputs": [],
      "source": [
        "# Get the median of the free sulfur dioxide\n",
        "free_sd_median = redwinequality_df[\"free sulfur dioxide\"].median()\n",
        "free_sd_median_value = float(free_sd_median)\n",
        "\n",
        "# Calculate the interquartile range (IQR)\n",
        "free_sd_q1, free_sd_q3 = np.percentile(redwinequality_df[\"free sulfur dioxide\"], [25, 75])\n",
        "free_sd_iqr = free_sd_q3 - free_sd_q1\n",
        "\n",
        "# Calculate the upper and lower whiskers\n",
        "free_sd_upper_whisker = min(redwinequality_df[\"free sulfur dioxide\"].max(), free_sd_q3 + 1.5*free_sd_iqr)\n",
        "free_sd_lower_whisker = max(redwinequality_df[\"free sulfur dioxide\"].min(),free_sd_q1 - 1.5*free_sd_iqr)\n",
        "\n",
        "#Calculate center of the box for visual inspection\n",
        "free_sd_center=(free_sd_q3 +free_sd_q1)/2\n",
        "\n",
        "#Print values \n",
        "print(\"Median of free sulfur dioxide: {:.2f}\".format(free_sd_median_value))\n",
        "print(\"Third Quartile: {:.2f}\".format(free_sd_q3))\n",
        "print(\"First Quartile: {:.2f}\".format(free_sd_q1))\n",
        "print(\"Upper whisker: {:.2f}\".format(free_sd_upper_whisker))\n",
        "print(\"Lower whisker: {:.2f}\".format(free_sd_lower_whisker))\n",
        "print(\"Center of the box: {:.2f}\".format(free_sd_center))"
      ]
    },
    {
      "cell_type": "markdown",
      "id": "44ddce76",
      "metadata": {
        "id": "44ddce76"
      },
      "source": [
        "Based on the boxplot of `free sulfur dioxide`, it can be seen that there exists outliers outside the upper whisker (42.00); however, none below the lower whisker (1.00). The 'free sulfur dioxide' column has a typical range of values, also known as the middle 50% of the data, which falls between 7.00 and 21.00.\n",
        "\n",
        "Moreover, based on visual inspection, the median is at the center of the box; thus, the **distribution is symmetric**."
      ]
    },
    {
      "attachments": {},
      "cell_type": "markdown",
      "id": "93vRX4s7mBJg",
      "metadata": {
        "id": "93vRX4s7mBJg"
      },
      "source": [
        "#### 2.7 Distribution of total sulfur dioxide"
      ]
    },
    {
      "cell_type": "code",
      "execution_count": null,
      "id": "cF7WnoJ6mAqK",
      "metadata": {
        "colab": {
          "base_uri": "https://localhost:8080/"
        },
        "id": "cF7WnoJ6mAqK",
        "outputId": "d5ee13e8-f5f2-402d-eb7c-29b518e732d2"
      },
      "outputs": [],
      "source": [
        "total_sd_df= redwinequality_df.agg({\"total sulfur dioxide\": [\"mean\", \"median\",\"std\", \"min\", \"max\"]})\n",
        "round(total_sd_df,2)"
      ]
    },
    {
      "cell_type": "markdown",
      "id": "T5sTovb-mGEW",
      "metadata": {
        "id": "T5sTovb-mGEW"
      },
      "source": [
        "The distribution of total sulfur dioxide is **46.47 ± 32.90** (mean ± std)."
      ]
    },
    {
      "cell_type": "code",
      "execution_count": null,
      "id": "vpfRo0CMmFM6",
      "metadata": {
        "colab": {
          "base_uri": "https://localhost:8080/"
        },
        "id": "vpfRo0CMmFM6",
        "outputId": "e8f70547-e50c-4813-d481-dee5e89c9774"
      },
      "outputs": [],
      "source": [
        "redwinequality_df.boxplot(\"total sulfur dioxide\", figsize=(15, 10))\n",
        "plt.show()"
      ]
    },
    {
      "cell_type": "code",
      "execution_count": null,
      "id": "nugIv7B8mKRJ",
      "metadata": {
        "colab": {
          "base_uri": "https://localhost:8080/"
        },
        "id": "nugIv7B8mKRJ",
        "outputId": "985c2589-c9cb-46dd-f247-6fbab38712a7"
      },
      "outputs": [],
      "source": [
        "# Get the median of the total sulfur dioxide\n",
        "total_sd_median = redwinequality_df[\"total sulfur dioxide\"].median()\n",
        "total_sd_median_value = float(total_sd_median)\n",
        "\n",
        "# Calculate the interquartile range (IQR)\n",
        "total_sd_q1, total_sd_q3 = np.percentile(redwinequality_df[\"total sulfur dioxide\"], [25, 75])\n",
        "total_sd_iqr = total_sd_q3 - total_sd_q1\n",
        "\n",
        "# Calculate the upper and lower whiskers\n",
        "total_sd_upper_whisker = min(redwinequality_df[\"total sulfur dioxide\"].max(), total_sd_q3 + 1.5*total_sd_iqr)\n",
        "total_sd_lower_whisker = max(redwinequality_df[\"total sulfur dioxide\"].min(),total_sd_q1 - 1.5*total_sd_iqr)\n",
        "\n",
        "#Calculate center of the box for visual inspection\n",
        "total_sd_center=(total_sd_q3 +total_sd_q1)/2\n",
        "\n",
        "#Print values \n",
        "print(\"Median of total sulfur dioxide: {:.2f}\".format(total_sd_median_value))\n",
        "print(\"Third Quartile: {:.2f}\".format(total_sd_q3))\n",
        "print(\"First Quartile: {:.2f}\".format(total_sd_q1))\n",
        "print(\"Upper whisker: {:.2f}\".format(total_sd_upper_whisker))\n",
        "print(\"Lower whisker: {:.2f}\".format(total_sd_lower_whisker))\n",
        "print(\"Center of the box: {:.2f}\".format(total_sd_center))"
      ]
    },
    {
      "cell_type": "markdown",
      "id": "53665dbc",
      "metadata": {
        "id": "53665dbc"
      },
      "source": [
        "Based on the boxplot of `total sulfur dioxide`, it can be seen that there exists outliers outside the upper whisker (122.00); however, none below the lower whisker (6.00). The 'total sulfur dioxider' column has a typical range of values, also known as the middle 50% of the data, which falls between 22.00 and 122.00.\n",
        "\n",
        "Moreover, based on visual inspection, the median is near the center of the box; thus, the **distribution is approximately symmetric**."
      ]
    },
    {
      "attachments": {},
      "cell_type": "markdown",
      "id": "q5VKrYNiqa9-",
      "metadata": {
        "id": "q5VKrYNiqa9-"
      },
      "source": [
        "#### 2.8 Distribution of Density"
      ]
    },
    {
      "cell_type": "code",
      "execution_count": null,
      "id": "gC8qee9bp1wu",
      "metadata": {
        "colab": {
          "base_uri": "https://localhost:8080/"
        },
        "id": "gC8qee9bp1wu",
        "outputId": "25adb255-2468-4272-de03-e82f6d018b95"
      },
      "outputs": [],
      "source": [
        "density_df= redwinequality_df.agg({\"density\": [\"mean\", \"median\",\"std\", \"min\", \"max\"]})\n",
        "round(density_df,4)"
      ]
    },
    {
      "cell_type": "markdown",
      "id": "GZkxTFITqeqf",
      "metadata": {
        "id": "GZkxTFITqeqf"
      },
      "source": [
        "The distribution of density is **0.9967 ± 0.0019** (mean ± std)."
      ]
    },
    {
      "cell_type": "code",
      "execution_count": null,
      "id": "y-UPOATGqeJH",
      "metadata": {
        "colab": {
          "base_uri": "https://localhost:8080/"
        },
        "id": "y-UPOATGqeJH",
        "outputId": "874e77d5-ba41-4da7-e1c5-24a8df3bcf9f"
      },
      "outputs": [],
      "source": [
        "redwinequality_df.boxplot(\"density\", figsize=(15, 10))\n",
        "plt.show()"
      ]
    },
    {
      "cell_type": "code",
      "execution_count": null,
      "id": "ZVzw632qqh3a",
      "metadata": {
        "colab": {
          "base_uri": "https://localhost:8080/"
        },
        "id": "ZVzw632qqh3a",
        "outputId": "95afe1af-c6b7-49e2-ade1-2421a3cecc21"
      },
      "outputs": [],
      "source": [
        "# Get the median of the density\n",
        "density_median = redwinequality_df[\"density\"].median()\n",
        "density_median_value = float(density_median)\n",
        "\n",
        "# Calculate the interquartile range (IQR)\n",
        "density_q1, density_q3 = np.percentile(redwinequality_df[\"density\"], [25, 75])\n",
        "density_iqr = density_q3 - density_q1\n",
        "\n",
        "# Calculate the upper and lower whiskers\n",
        "density_upper_whisker = min(redwinequality_df[\"density\"].max(), density_q3 + 1.5*density_iqr)\n",
        "density_lower_whisker = max(redwinequality_df[\"density\"].min(),density_q1 - 1.5*density_iqr)\n",
        "\n",
        "#Calculate center of the box for visual inspection\n",
        "density_center=(density_q3 +density_q1)/2\n",
        "\n",
        "#Print values \n",
        "print(\"Median of density: {:.4f}\".format(density_median_value))\n",
        "print(\"Third Quartile: {:.4f}\".format(density_q3))\n",
        "print(\"First Quartile: {:.4f}\".format(density_q1))\n",
        "print(\"Upper whisker: {:.4f}\".format(density_upper_whisker))\n",
        "print(\"Lower whisker: {:.4f}\".format(density_lower_whisker))\n",
        "print(\"Center of the box: {:.4f}\".format(density_center))"
      ]
    },
    {
      "cell_type": "markdown",
      "id": "H4KuL6CIrFlT",
      "metadata": {
        "id": "H4KuL6CIrFlT"
      },
      "source": [
        "Based on the boxplot of density, it can be seen that there exists outliers outside the upper whisker (1.0012) and lower whisker (0.9922). The 'density' column has a typical range of values, also known as the middle 50% of the data, which falls between 0.9956 and 0.9978.\n",
        "\n",
        "Moreover, based on visual inspection, the median is near the center of the box; thus, the **distribution is approximately symmetric**."
      ]
    },
    {
      "attachments": {},
      "cell_type": "markdown",
      "id": "QsFdJ2cvrNi8",
      "metadata": {
        "id": "QsFdJ2cvrNi8"
      },
      "source": [
        "#### 2.9 Distribution of pH"
      ]
    },
    {
      "cell_type": "code",
      "execution_count": null,
      "id": "-MrXmC3FtfcC",
      "metadata": {
        "colab": {
          "base_uri": "https://localhost:8080/"
        },
        "id": "-MrXmC3FtfcC",
        "outputId": "0cea2e87-f735-4d2d-cf0e-6b6a1edc7a83"
      },
      "outputs": [],
      "source": [
        "ph_df = redwinequality_df.agg({\"pH\": [\"mean\", \"median\",\"std\", \"min\", \"max\"]})\n",
        "round(ph_df,2)"
      ]
    },
    {
      "cell_type": "markdown",
      "id": "5pP5pN_vwL-_",
      "metadata": {
        "id": "5pP5pN_vwL-_"
      },
      "source": [
        "The distribution of density is **3.31 ± 0.15** (mean ± std)."
      ]
    },
    {
      "cell_type": "code",
      "execution_count": null,
      "id": "zrZR3vrgwJWI",
      "metadata": {
        "colab": {
          "base_uri": "https://localhost:8080/"
        },
        "id": "zrZR3vrgwJWI",
        "outputId": "32a9f476-f469-40aa-bbdd-c5b92d9c2030"
      },
      "outputs": [],
      "source": [
        "redwinequality_df.boxplot(\"pH\", figsize=(15, 10))\n",
        "plt.show()"
      ]
    },
    {
      "cell_type": "code",
      "execution_count": null,
      "id": "iXgwjKoIrM_w",
      "metadata": {
        "colab": {
          "base_uri": "https://localhost:8080/"
        },
        "id": "iXgwjKoIrM_w",
        "outputId": "cce010c2-3d18-4cbf-87f9-2f66cdc48005"
      },
      "outputs": [],
      "source": [
        "# Get the median of the pH\n",
        "ph_median = redwinequality_df[\"pH\"].median()\n",
        "ph_median_value = float(ph_median)\n",
        "\n",
        "# Calculate the interquartile range (IQR)\n",
        "ph_q1, ph_q3 = np.percentile(redwinequality_df[\"pH\"], [25, 75])\n",
        "ph_iqr = ph_q3 - ph_q1\n",
        "\n",
        "# Calculate the upper and lower whiskers\n",
        "ph_upper_whisker = min(redwinequality_df[\"pH\"].max(), ph_q3 + 1.5*ph_iqr)\n",
        "ph_lower_whisker = max(redwinequality_df[\"pH\"].min(),ph_q1 - 1.5*ph_iqr)\n",
        "\n",
        "#Calculate center of the box for visual inspection\n",
        "ph_center=(ph_q3 +ph_q1)/2\n",
        "\n",
        "#Print values \n",
        "print(\"Median of pH: {:.2f}\".format(ph_median_value))\n",
        "print(\"Third Quartile: {:.2f}\".format(ph_q3))\n",
        "print(\"First Quartile: {:.2f}\".format(ph_q1))\n",
        "print(\"Upper whisker: {:.2f}\".format(ph_upper_whisker))\n",
        "print(\"Lower whisker: {:.2f}\".format(ph_lower_whisker))\n",
        "print(\"Center of the box: {:.2f}\".format(ph_center))"
      ]
    },
    {
      "cell_type": "markdown",
      "id": "lSjU3uzkwWu9",
      "metadata": {
        "id": "lSjU3uzkwWu9"
      },
      "source": [
        "Based on the boxplot of `pH`, it can be seen that there exists outliers outside the upper whisker (3.68) and lower whisker (2.92). The 'pH' column has a typical range of values, also known as the middle 50% of the data, which falls between 3.21 and 3.40.\n",
        "\n",
        "Moreover, based on visual inspection, the median is near the center of the box; thus, the **distribution is approximately symmetric**."
      ]
    },
    {
      "attachments": {},
      "cell_type": "markdown",
      "id": "c295c94d",
      "metadata": {
        "id": "c295c94d"
      },
      "source": [
        "#### 2.10 Distribution of sulphates"
      ]
    },
    {
      "cell_type": "code",
      "execution_count": null,
      "id": "dkdi9Ac9xwfx",
      "metadata": {
        "colab": {
          "base_uri": "https://localhost:8080/"
        },
        "id": "dkdi9Ac9xwfx",
        "outputId": "796275a7-f4a3-4c91-cf19-4c3114a682b0"
      },
      "outputs": [],
      "source": [
        "sulph_df = redwinequality_df.agg({\"sulphates\": [\"mean\", \"median\",\"std\", \"min\", \"max\"]})\n",
        "round(sulph_df,2)"
      ]
    },
    {
      "cell_type": "markdown",
      "id": "YCr7IIEfx28Q",
      "metadata": {
        "id": "YCr7IIEfx28Q"
      },
      "source": [
        "The distribution of sulphates is **0.66 ± 0.17** (mean ± std)."
      ]
    },
    {
      "cell_type": "code",
      "execution_count": null,
      "id": "jQ6FZEz4xzBh",
      "metadata": {
        "colab": {
          "base_uri": "https://localhost:8080/"
        },
        "id": "jQ6FZEz4xzBh",
        "outputId": "7c69f039-4ffb-44bd-b50d-b3d63592d17a"
      },
      "outputs": [],
      "source": [
        "redwinequality_df.boxplot(\"sulphates\", figsize=(15, 10))\n",
        "plt.show()"
      ]
    },
    {
      "cell_type": "code",
      "execution_count": null,
      "id": "Fg-4kKHByBUo",
      "metadata": {
        "colab": {
          "base_uri": "https://localhost:8080/"
        },
        "id": "Fg-4kKHByBUo",
        "outputId": "97f83217-9c06-4ccb-c29f-6805301950a2"
      },
      "outputs": [],
      "source": [
        "# Get the median of the sulphates\n",
        "sulph_median = redwinequality_df[\"sulphates\"].median()\n",
        "sulph_median_value = float(sulph_median)\n",
        "\n",
        "# Calculate the interquartile range (IQR)\n",
        "sulph_q1, sulph_q3 = np.percentile(redwinequality_df[\"sulphates\"], [25, 75])\n",
        "sulph_iqr = sulph_q3 - sulph_q1\n",
        "\n",
        "# Calculate the upper and lower whiskers\n",
        "sulph_upper_whisker = min(redwinequality_df[\"sulphates\"].max(), sulph_q3 + 1.5*sulph_iqr)\n",
        "sulph_lower_whisker = max(redwinequality_df[\"sulphates\"].min(),sulph_q1 - 1.5*sulph_iqr)\n",
        "\n",
        "#Calculate center of the box for visual inspection\n",
        "sulph_center=(sulph_q3 +sulph_q1)/2\n",
        "\n",
        "#Print values \n",
        "print(\"Median of sulphates: {:.2f}\".format(sulph_median_value))\n",
        "print(\"Third Quartile: {:.2f}\".format(sulph_q3))\n",
        "print(\"First Quartile: {:.2f}\".format(sulph_q1))\n",
        "print(\"Upper whisker: {:.2f}\".format(sulph_upper_whisker))\n",
        "print(\"Lower whisker: {:.2f}\".format(sulph_lower_whisker))\n",
        "print(\"Center of the box: {:.2f}\".format(sulph_center))"
      ]
    },
    {
      "cell_type": "markdown",
      "id": "Srq5lyrOyE2r",
      "metadata": {
        "id": "Srq5lyrOyE2r"
      },
      "source": [
        "Based on the boxplot of `sulphates`, it can be seen that there exists outliers outside the upper whisker (1.00); however, none below the lower whisker (0.33). The 'sulphates' column has a typical range of values, also known as the middle 50% of the data, which falls between 0.55 and 0.73.\n",
        "\n",
        "Moreover, based on visual inspection, the median is near the center of the box; thus, the **distribution is approximately symmetric**."
      ]
    },
    {
      "attachments": {},
      "cell_type": "markdown",
      "id": "7EasTtFDzw3q",
      "metadata": {
        "id": "7EasTtFDzw3q"
      },
      "source": [
        "#### 2.11 Distribution of alcohol"
      ]
    },
    {
      "cell_type": "code",
      "execution_count": null,
      "id": "uP0SI-5YzzNY",
      "metadata": {
        "colab": {
          "base_uri": "https://localhost:8080/"
        },
        "id": "uP0SI-5YzzNY",
        "outputId": "99f9bf1e-a4f8-40cf-cacb-0c46e062662c"
      },
      "outputs": [],
      "source": [
        "alc_df = redwinequality_df.agg({\"alcohol\": [\"mean\", \"median\",\"std\", \"min\", \"max\"]})\n",
        "round(alc_df,2)"
      ]
    },
    {
      "cell_type": "markdown",
      "id": "YT2hfe7vz2xQ",
      "metadata": {
        "id": "YT2hfe7vz2xQ"
      },
      "source": [
        "The distribution of alcohol is 10.42 ± 1.07 (mean ± std)."
      ]
    },
    {
      "cell_type": "code",
      "execution_count": null,
      "id": "BePQ7ZAcz2Rk",
      "metadata": {
        "colab": {
          "base_uri": "https://localhost:8080/"
        },
        "id": "BePQ7ZAcz2Rk",
        "outputId": "4c240123-46f9-461e-b1aa-a1baec60b5b9"
      },
      "outputs": [],
      "source": [
        "redwinequality_df.boxplot(\"alcohol\", figsize=(15, 10))\n",
        "plt.show()"
      ]
    },
    {
      "cell_type": "code",
      "execution_count": null,
      "id": "vlFAOyT60N23",
      "metadata": {
        "colab": {
          "base_uri": "https://localhost:8080/"
        },
        "id": "vlFAOyT60N23",
        "outputId": "a0990148-4528-4fb4-8c88-899492e553ed"
      },
      "outputs": [],
      "source": [
        "# Get the median of the alcohol\n",
        "alc_median = redwinequality_df[\"alcohol\"].median()\n",
        "alc_median_value = float(alc_median)\n",
        "\n",
        "# Calculate the interquartile range (IQR)\n",
        "alc_q1, alc_q3 = np.percentile(redwinequality_df[\"alcohol\"], [25, 75])\n",
        "alc_iqr = alc_q3 - alc_q1\n",
        "\n",
        "# Calculate the upper and lower whiskers\n",
        "alc_upper_whisker = min(redwinequality_df[\"alcohol\"].max(), alc_q3 + 1.5*alc_iqr)\n",
        "alc_lower_whisker = max(redwinequality_df[\"alcohol\"].min(),alc_q1 - 1.5*alc_iqr)\n",
        "\n",
        "#Calculate center of the box for visual inspection\n",
        "alc_center=(alc_q3 +alc_q1)/2\n",
        "\n",
        "#Print values \n",
        "print(\"Median of alcohol: {:.2f}\".format(alc_median_value))\n",
        "print(\"Third Quartile: {:.2f}\".format(alc_q3))\n",
        "print(\"First Quartile: {:.2f}\".format(alc_q1))\n",
        "print(\"Upper whisker: {:.2f}\".format(alc_upper_whisker))\n",
        "print(\"Lower whisker: {:.2f}\".format(alc_lower_whisker))\n",
        "print(\"Center of the box: {:.2f}\".format(alc_center))"
      ]
    },
    {
      "cell_type": "markdown",
      "id": "kjsdd4N90Qjh",
      "metadata": {
        "id": "kjsdd4N90Qjh"
      },
      "source": [
        "Based on the boxplot of alcohol, it can be seen that there exists outliers outside the upper whisker (13.50); however, none below the lower whisker (8.40). The 'alcohol' column has a typical range of values, also known as the middle 50% of the data, which falls between 9.50 and 11.10.\n",
        "\n",
        "Moreover, based on visual inspection, the median is near the center of the box; thus, the **distribution is approximately symmetric**."
      ]
    },
    {
      "attachments": {},
      "cell_type": "markdown",
      "id": "wC2DrZOxRRVy",
      "metadata": {
        "id": "wC2DrZOxRRVy"
      },
      "source": [
        "### 3. Are there any variables that are highly correlated with each other?"
      ]
    },
    {
      "attachments": {},
      "cell_type": "markdown",
      "id": "4bd5876d",
      "metadata": {},
      "source": [
        "In order to know or easily determine which highly correlated with each other the **`corr`** function and heatmap was used again."
      ]
    },
    {
      "cell_type": "code",
      "execution_count": null,
      "id": "3d27e624",
      "metadata": {},
      "outputs": [],
      "source": [
        "# pearson correlation between each variable with each other\n",
        "all_corr = redwinequality_df.corr(method='pearson')\n",
        "\n",
        "# Matplotlib heatmap of correlation of each variable with each other\n",
        "plt.rcParams['axes.grid'] = False # to disable white grid lines\n",
        "fig, ax = plt.subplots(figsize=(10,10))\n",
        "im = ax.imshow(all_corr, cmap='plasma', interpolation='nearest')\n",
        "ax.set_title('Correlation of all variables with each other', size=20)\n",
        "ax.set_xticks(range(len(all_corr.columns)), all_corr.columns, rotation='vertical', size=12)\n",
        "ax.set_yticks(range(len(all_corr.columns)), all_corr.columns, size=12)\n",
        "fig.colorbar(im, orientation='vertical')\n",
        "for i in range(len(all_corr.columns)):\n",
        "    for j in range(len(all_corr.columns)):\n",
        "        text = ax.text(j, i, round(all_corr.iloc[i, j], 2),\n",
        "                       ha=\"center\", va=\"center\", color=\"black\", size=12)\n",
        "plt.show()\n",
        "plt.rcParams['axes.grid'] = True # to enable white grid lines"
      ]
    },
    {
      "attachments": {},
      "cell_type": "markdown",
      "id": "M_Y5f4naMuVq",
      "metadata": {
        "id": "M_Y5f4naMuVq"
      },
      "source": [
        "From the above correlation plot for the given dataset for wine quality prediction, we can easily see which items are related highly with each other, both positively and negatively\n",
        "\n",
        "The highly positively correlated items are :\n",
        "1. fixed acidity and citric acid\n",
        "2. free sulphur dioxide and total sulphor dioxide\n",
        "3. fixed acidity and density\n",
        "4. alcohol and quality\n",
        "\n",
        "The highly negatively correlated items are :\n",
        "1. citric acid and volatile acidity\n",
        "2. fixed acidity and ph\n",
        "3. density and alcohol"
      ]
    },
    {
      "cell_type": "markdown",
      "id": "UUk7aBcQcbbF",
      "metadata": {
        "id": "UUk7aBcQcbbF"
      },
      "source": [
        "### 4. How does the alcohol content vary across different quality scores?"
      ]
    },
    {
      "cell_type": "markdown",
      "id": "8JaRxBPOcfR9",
      "metadata": {
        "id": "8JaRxBPOcfR9"
      },
      "source": [
        "In order to observe the how does the *alcohol content* vary across different quality scores, its distribution will be calculated using the sum and difference of its  mean and standard deviation value."
      ]
    },
    {
      "cell_type": "code",
      "execution_count": null,
      "id": "djE1URUmcjqm",
      "metadata": {
        "id": "djE1URUmcjqm"
      },
      "outputs": [],
      "source": [
        "# alcohol content per quality score\n",
        "alcohol_per_quality = redwinequality_df.groupby(\"quality\").agg({\"alcohol\": [\"count\", \"min\", \"max\", \"sum\", \"median\", \"mean\", \"std\", ]})\n",
        "\n",
        "# get string representation of sum and difference of mean and standard deviation for distribution column\n",
        "alcohol_per_quality[\"alcohol\", \"distribution\"] = round(alcohol_per_quality[\"alcohol\"][\"mean\"],2).astype(str) + \" ± \" + round(alcohol_per_quality[\"alcohol\"][\"std\"],2).astype(str)\n",
        "\n",
        "round(alcohol_per_quality,2)"
      ]
    },
    {
      "cell_type": "markdown",
      "id": "RkMwqcc_cnJU",
      "metadata": {
        "id": "RkMwqcc_cnJU"
      },
      "source": [
        "The distribution of alcohol per quality rate can be found in the **`distribution`** column of the **`alcohol_per_quality`** dataframe."
      ]
    },
    {
      "cell_type": "markdown",
      "id": "FWrblShQcqTa",
      "metadata": {
        "id": "FWrblShQcqTa"
      },
      "source": [
        "The distribution of the **alcohol content** per **quality rate** can be visually represented using boxplots."
      ]
    },
    {
      "cell_type": "code",
      "execution_count": null,
      "id": "xBCwNMWqcxab",
      "metadata": {
        "id": "xBCwNMWqcxab"
      },
      "outputs": [],
      "source": [
        "# boxplot of alcohol content per quality rate\n",
        "redwinequality_df.boxplot(\"alcohol\", by=\"quality\", figsize=(15, 10))\n",
        "plt.show()"
      ]
    },
    {
      "cell_type": "markdown",
      "id": "3qr15NtxcyOt",
      "metadata": {
        "id": "3qr15NtxcyOt"
      },
      "source": [
        "In order to determine the scewness of alcohol content distribution per quality rate, the **median** (**`50%`**) and **mean** must be retreived. This is done by grouping the **`alcohol`** column by **`quality`** using the **`groupby`** function and calling the **`describe`** function on the **`alcohol`** column."
      ]
    },
    {
      "cell_type": "code",
      "execution_count": null,
      "id": "4F2g_A_nc12Y",
      "metadata": {
        "id": "4F2g_A_nc12Y"
      },
      "outputs": [],
      "source": [
        "bx_vals = redwinequality_df.groupby(\"quality\")[\"alcohol\"].describe()\n",
        "bx_vals"
      ]
    },
    {
      "cell_type": "markdown",
      "id": "3I8tYByfc6sF",
      "metadata": {
        "id": "3I8tYByfc6sF"
      },
      "source": [
        "The distribution of **`alcohol`** in a **`quality`** group is negatively skewed if **mean** is greater than the **median**. It is positively skewed if **mean** is less than the **median**. And no skew if **mean** and **median** are both equal.\n",
        "\n",
        "The list of **`quality`** groups that are negatively skewed are assigned to **`neg-skew`** while the list of **`quality`** groups that are positively skewed are assigned to **`pos-skew`**, and the list of **`quality`** groups that are not skewed are assigned to **`no-skew`**. This can be done using the **`tolist`** function."
      ]
    },
    {
      "cell_type": "code",
      "execution_count": null,
      "id": "g_Q5VHU1dB_N",
      "metadata": {
        "id": "g_Q5VHU1dB_N"
      },
      "outputs": [],
      "source": [
        "neg_skew = bx_vals.index[bx_vals['mean'] > bx_vals['50%']].tolist()\n",
        "pos_skew = bx_vals.index[bx_vals['mean'] < bx_vals['50%']].tolist()\n",
        "no_skew = bx_vals.index[bx_vals['mean'] == bx_vals['50%']].tolist()\n",
        "\n",
        "print(\"Negative skew: \", neg_skew)\n",
        "print(\"Positive skew: \", pos_skew)\n",
        "print(\"No skew: \", no_skew)"
      ]
    },
    {
      "cell_type": "markdown",
      "id": "UHYB5zjmdFU2",
      "metadata": {
        "id": "UHYB5zjmdFU2"
      },
      "source": [
        "Based on the results, the **`quality`** groups **`[3, 4, 5, 6]`**'s alcohol distribution is negatively skewed and the **`quality`** groups **`[7, 8]`**'s alcohol distribution is positively skewed. Lastly, there are no **`quality`** groups that are not skewed."
      ]
    },
    {
      "cell_type": "markdown",
      "id": "wGjDeD-_OR-O",
      "metadata": {
        "id": "wGjDeD-_OR-O"
      },
      "source": [
        "# Formulated Research Question"
      ]
    },
    {
      "cell_type": "markdown",
      "id": "ZrYhSqkHQINy",
      "metadata": {
        "id": "ZrYhSqkHQINy"
      },
      "source": [
        "\n",
        "Our exploratory data analysis tackled all variables that can be measured on how much impact it has to each quality of the wine. The study aims to determine the relationship between the physicochemical properties of wine towards the quality rating of wine. With this, the primary research question aims to focus towards predicting properties that influence the quality rating of wine through modeling the dataset. Thus, our research aims to identify and answer the question:"
      ]
    },
    {
      "cell_type": "markdown",
      "id": "GUQMcfRlSNqz",
      "metadata": {
        "id": "GUQMcfRlSNqz"
      },
      "source": [
        "**Can physicochemical properties of wine predict its quality rating?**"
      ]
    },
    {
      "cell_type": "markdown",
      "id": "GUIZhDJwSRxz",
      "metadata": {
        "id": "GUIZhDJwSRxz"
      },
      "source": [
        "The relevance of the study primarily focuses on quality assessments in the wine industry. Most traditional systems assess wine quality through human experts which is time consuming and expensive. This project aims to determine which are the best quality red wine indicators and produce insights onto these factors to our model’s red wine quality assessment. This can provide an easier and efficient way to predict the quality of the wine. Through this, winemakers and consumers would be able to examine how a fine change in each property could affect the quality of the wine. In addition, the system can address the importance of each physiochemical property to identify which factor should be disregarded for reduction of cost.\n"
      ]
    },
    {
      "cell_type": "markdown",
      "id": "oXHm0DJGURuR",
      "metadata": {
        "id": "oXHm0DJGURuR"
      },
      "source": [
        "#### References\n"
      ]
    },
    {
      "cell_type": "markdown",
      "id": "hxhGUFlEXyeL",
      "metadata": {
        "id": "hxhGUFlEXyeL"
      },
      "source": [
        "Paulo Cortez, University of Minho, Guimarães, Portugal, http://www3.dsi.uminho.pt/pcortez (2009)\n",
        "A. Cerdeira, F. Almeida, T. Matos and J. Reis, Viticulture Commission of the Vinho Verde Region(CVRVV), Porto, Portugal"
      ]
    },
    {
      "cell_type": "markdown",
      "id": "cQTyle9kYCix",
      "metadata": {
        "id": "cQTyle9kYCix"
      },
      "source": [
        "The importance of the physicochemical composition of wine on the score awarded in an official contest | IVES. (2022, June 13). IVES |. https://ives-openscience.eu/13679/\n",
        "\n",
        "‌"
      ]
    }
  ],
  "metadata": {
    "colab": {
      "collapsed_sections": [
        "55340bed",
        "UUk7aBcQcbbF"
      ],
      "provenance": [],
      "toc_visible": true
    },
    "kernelspec": {
      "display_name": "Python 3 (ipykernel)",
      "language": "python",
      "name": "python3"
    },
    "language_info": {
      "codemirror_mode": {
        "name": "ipython",
        "version": 3
      },
      "file_extension": ".py",
      "mimetype": "text/x-python",
      "name": "python",
      "nbconvert_exporter": "python",
      "pygments_lexer": "ipython3",
      "version": "3.9.13"
    }
  },
  "nbformat": 4,
  "nbformat_minor": 5
}
